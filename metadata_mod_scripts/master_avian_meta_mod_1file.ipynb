{
 "cells": [
  {
   "cell_type": "code",
   "execution_count": null,
   "id": "a53ab763",
   "metadata": {},
   "outputs": [],
   "source": [
    "import pandas as pd\n",
    "import numpy as np"
   ]
  },
  {
   "cell_type": "code",
   "execution_count": null,
   "id": "2c1f432b",
   "metadata": {},
   "outputs": [],
   "source": [
    "#this script is to read in metadata files that have clade info added already\n",
    "#to both make new columns and merge in data from files for\n",
    "#species #flyways and regions #domestic status #improved order/species groupings\n",
    "#script outputs new version of these metadata files for each gene"
   ]
  },
  {
   "cell_type": "code",
   "execution_count": null,
   "id": "17468a83",
   "metadata": {},
   "outputs": [],
   "source": [
    "#import metadata files to modify\n",
    "df = pd.read_csv('h5nx_cattle_update/metadata-with-clade_h5nx.tsv', sep='\\t')\n"
   ]
  },
  {
   "cell_type": "code",
   "execution_count": null,
   "id": "74112f23",
   "metadata": {
    "scrolled": true
   },
   "outputs": [],
   "source": [
    "#check df\n",
    "df"
   ]
  },
  {
   "cell_type": "code",
   "execution_count": null,
   "id": "f7afb3f0",
   "metadata": {},
   "outputs": [],
   "source": [
    "#make empty column Animal\n",
    "\n",
    "df['Animal'] = np.nan\n",
    "list(df.columns)"
   ]
  },
  {
   "cell_type": "code",
   "execution_count": null,
   "id": "d78a89b8",
   "metadata": {},
   "outputs": [],
   "source": [
    "# Extract the 'Animal' value where the format is as expected\n",
    "for index, row in df.iterrows():\n",
    "    parts = row['strain'].split('/')\n",
    "    if len(parts) > 1:\n",
    "        df.at[index, 'Animal'] = parts[1]"
   ]
  },
  {
   "cell_type": "code",
   "execution_count": null,
   "id": "06e98188",
   "metadata": {},
   "outputs": [],
   "source": [
    "\n",
    "df['Animal']=df['Animal'].str.lower()\n",
    "df"
   ]
  },
  {
   "cell_type": "code",
   "execution_count": null,
   "id": "49a10d06",
   "metadata": {},
   "outputs": [],
   "source": [
    "#importing species file\n",
    "species = pd.read_csv('species.csv')\n",
    "species"
   ]
  },
  {
   "cell_type": "code",
   "execution_count": null,
   "id": "8ddc91c5",
   "metadata": {},
   "outputs": [],
   "source": [
    "#rename column to match metafiles \n",
    "species = species.rename(columns={'annotated': 'Animal'})\n",
    "list(species.columns)"
   ]
  },
  {
   "cell_type": "code",
   "execution_count": null,
   "id": "518510d1",
   "metadata": {},
   "outputs": [],
   "source": [
    "df = pd.merge(df, species, how='left', on=['Animal'])\n",
    "df"
   ]
  },
  {
   "cell_type": "code",
   "execution_count": null,
   "id": "64b3de77",
   "metadata": {},
   "outputs": [],
   "source": [
    "df=df.drop_duplicates(subset=['strain'])\n",
    "df.info()"
   ]
  },
  {
   "cell_type": "code",
   "execution_count": null,
   "id": "19497ec0",
   "metadata": {},
   "outputs": [],
   "source": [
    "##now we're gonna do the same thing to add flyways and regions\n",
    "fly_reg = pd.read_csv('flyway_regions.csv')\n",
    "fly_reg"
   ]
  },
  {
   "cell_type": "code",
   "execution_count": null,
   "id": "d7ea0308",
   "metadata": {},
   "outputs": [],
   "source": [
    "df = pd.merge(df, fly_reg, how='left', on=['location'])\n",
    "df"
   ]
  },
  {
   "cell_type": "code",
   "execution_count": null,
   "id": "eda8e935",
   "metadata": {},
   "outputs": [],
   "source": [
    "df.loc[df['location'] == 'Minnesota']\n",
    "#test to see that this worked bc can't see NorthAm strains is preview"
   ]
  },
  {
   "cell_type": "code",
   "execution_count": null,
   "id": "97de866b",
   "metadata": {},
   "outputs": [],
   "source": [
    "#drop duplicates again and check\n",
    "df=df.drop_duplicates(subset=['strain'])\n",
    "df"
   ]
  },
  {
   "cell_type": "code",
   "execution_count": null,
   "id": "4c49d742",
   "metadata": {},
   "outputs": [],
   "source": [
    "#next merging- for domestic status, first need to read in file with this data\n",
    "#importing Lambo's tsv with the metadata columns of interest\n",
    "LDmeta = pd.read_csv('NA-H5Nx-2021-2023-seqmerge.tsv', sep='\\t')\n",
    "LDmeta.head(10)"
   ]
  },
  {
   "cell_type": "code",
   "execution_count": null,
   "id": "7358ebb7",
   "metadata": {},
   "outputs": [],
   "source": [
    "#need to modify the id column to remove dashes so it will match the other metadata file\n",
    "LDmeta['ID'] = LDmeta['ID'].str.replace('-','')\n",
    "LDmeta"
   ]
  },
  {
   "cell_type": "code",
   "execution_count": null,
   "id": "960f8ebc",
   "metadata": {},
   "outputs": [],
   "source": [
    "#now want to drop a bunch of unnecessary/redundant columns so the merge isn't crazy\n",
    "LDmeta = LDmeta.drop(columns=[\n",
    "    'seq', 'ID-22rem', 'Location', 'Note', 'State_Province', \n",
    "    'Clade', 'city_county', 'Host', 'Collection_Date', 'Unnamed: 0'])\n",
    "list(LDmeta.columns)"
   ]
  },
  {
   "cell_type": "code",
   "execution_count": null,
   "id": "65f7a125",
   "metadata": {},
   "outputs": [],
   "source": [
    "#clean up the namings for domestic status\n",
    "LDmeta[\"Domestic_Status\"] = LDmeta[\"Domestic_Status\"].apply(lambda x: x.replace(\"nonhuman_mammal\", \"Nonhuman Mammal\"))\n",
    "LDmeta.loc[LDmeta['Domestic_Status'] == 'Nonhuman Mammal']"
   ]
  },
  {
   "cell_type": "code",
   "execution_count": null,
   "id": "e3fe81c2",
   "metadata": {},
   "outputs": [],
   "source": [
    "#clean up the namings for domestic status\n",
    "LDmeta[\"Domestic_Status\"] = LDmeta[\"Domestic_Status\"].apply(lambda x: x.replace(\"Backyard bird\", \"Backyard Bird\"))\n",
    "LDmeta.loc[LDmeta['Domestic_Status'] == 'Backyard Bird']"
   ]
  },
  {
   "cell_type": "code",
   "execution_count": null,
   "id": "c87d63ce",
   "metadata": {},
   "outputs": [],
   "source": [
    "LDmeta[\"Domestic_Status\"] = LDmeta[\"Domestic_Status\"].apply(lambda x: x.replace(\"U\", \"Unknown\"))\n",
    "LDmeta.loc[LDmeta['Domestic_Status'] == 'Unknown']"
   ]
  },
  {
   "cell_type": "code",
   "execution_count": null,
   "id": "08ef1ac9",
   "metadata": {},
   "outputs": [],
   "source": [
    "df['ID'] = np.nan\n",
    "list(df.columns)"
   ]
  },
  {
   "cell_type": "code",
   "execution_count": null,
   "id": "24fcefc0",
   "metadata": {},
   "outputs": [],
   "source": [
    "#make ID column from pulling out ID from strain name to match on \n",
    "\n",
    "split_values = df['strain'].str.split('/')  # 'strain' is the column to split\n",
    "df['ID'] = split_values.str[3]\n",
    "    \n",
    "#for df in df_list:\n",
    "    #for index, row in df.iterrows():\n",
    "       # parts = row['strain'].split('/')\n",
    "       # if len(parts) > 1:\n",
    "          #  df.at[index, 'ID'] = parts[2]\n",
    "df"
   ]
  },
  {
   "cell_type": "code",
   "execution_count": null,
   "id": "4d524bf3",
   "metadata": {},
   "outputs": [],
   "source": [
    "df = pd.merge(df, LDmeta, how='left', on=['ID'])\n"
   ]
  },
  {
   "cell_type": "code",
   "execution_count": null,
   "id": "32b496a4",
   "metadata": {},
   "outputs": [],
   "source": [
    "print(df.loc[df['region'] == 'North America'])"
   ]
  },
  {
   "cell_type": "code",
   "execution_count": null,
   "id": "a6741dd7",
   "metadata": {},
   "outputs": [],
   "source": [
    "list(df.columns)"
   ]
  },
  {
   "cell_type": "code",
   "execution_count": null,
   "id": "00ec8c21",
   "metadata": {},
   "outputs": [],
   "source": [
    "    \n",
    "df.drop(columns=['state2','broad','correction','Isolate_Id', \n",
    "                'Isolate_Name'], inplace=True)\n",
    "\n",
    "list(df.columns)"
   ]
  },
  {
   "cell_type": "code",
   "execution_count": null,
   "id": "ac23eef2-73d9-4712-9451-24d1766632ee",
   "metadata": {},
   "outputs": [],
   "source": [
    "df.Animal.unique()"
   ]
  },
  {
   "cell_type": "code",
   "execution_count": null,
   "id": "96d63919",
   "metadata": {},
   "outputs": [],
   "source": [
    "#create list for the missing orders\n",
    "\n",
    "carnivore_list = ['skunk', 'redfox', 'fox', 'bobcat', 'harborseal', 'raccoon', \n",
    "                  'blackbear', 'stripedskunk', 'cat', 'vulpesvulpes', 'coyote',\n",
    "                  'greyseal', 'wildmink']\n",
    "marsup_list = ['virginiaopossum']\n",
    "artiodactyl_list = ['bottlenosedolphin','dolphin', 'dairycattle', 'goat']\n",
    "anseriformes_list = ['lesserscaup']\n",
    "passeriformes_list = ['greattailedgrackle', 'americanraven', 'commongrackle']\n",
    "pelican_list = ['brownpelican', 'snowyegret']\n",
    "accipitriformes_list = ['osprey', 'turkeyvulture', 'coopershawk']\n",
    "\n",
    "\n",
    "df.loc[df['Animal'].isin(carnivore_list), 'order'] = 'carnivora'\n",
    "df.loc[df['Animal'].isin(marsup_list), 'order'] = 'didelphimorphia'\n",
    "df.loc[df['Animal'].isin(artiodactyl_list), 'order'] = 'artiodactyl'\n",
    "df.loc[df['Animal'].isin(anseriformes_list), 'order'] = 'anseriformes'\n",
    "df.loc[df['Animal'].isin(passeriformes_list), 'order'] = 'passeriformes'\n",
    "df.loc[df['Animal'].isin(pelican_list), 'order'] = 'pelecaniformes'\n",
    "df.loc[df['Animal'].isin(accipitriformes_list), 'order'] = 'accipitriformes'"
   ]
  },
  {
   "cell_type": "code",
   "execution_count": null,
   "id": "11891e08",
   "metadata": {},
   "outputs": [],
   "source": [
    "#confirm\n",
    "artis = df.loc[df['order'] == 'artiodactyl']\n",
    "\n",
    "print(artis[['Animal','order']].head(10))"
   ]
  },
  {
   "cell_type": "code",
   "execution_count": null,
   "id": "f377b73e",
   "metadata": {},
   "outputs": [],
   "source": [
    "#adding a couple missing animals to wild designation for domestic status via the same list method\n",
    "\n",
    "wild_list = ['blackvulture', 'commontern']\n",
    "dom_list = ['chicken']\n",
    "\n",
    "\n",
    "\n",
    "df.loc[df['Animal'].isin(wild_list), 'Domestic_Status'] = 'Wild'\n",
    "df.loc[df['Animal'].isin(dom_list), 'Domestic_Status'] = 'Domestic'\n",
    "    \n",
    "print(df.loc[df['Animal'] == 'chicken'])"
   ]
  },
  {
   "cell_type": "code",
   "execution_count": null,
   "id": "7b6b34a1",
   "metadata": {},
   "outputs": [],
   "source": [
    "#create new empty column now named species group for grouping some orders together\n",
    "\n",
    "df['species_group'] = \"unknown\"\n",
    "list(df.columns)"
   ]
  },
  {
   "cell_type": "code",
   "execution_count": null,
   "id": "6fe96c8b",
   "metadata": {},
   "outputs": [],
   "source": [
    "wild_terrest_list = ['skunk', 'redfox', 'fox', 'bobcat', 'raccoon', \n",
    "                'blackbear', 'stripedskunk', 'cat', 'domesticcat', 'feline', 'vulpesvulpes', 'coyote',\n",
    "                'wildmink']\n",
    "rum_list = ['dairycattle', 'goat']\n",
    "marine_list = ['harborseal', 'greyseal','bottlenosedolphin','dolphin']\n",
    "humans = ['Human']\n",
    "\n",
    "df.loc[df['Animal'].isin(wild_terrest_list), 'species_group'] = 'Mammal- Terrestrial'\n",
    "df.loc[df['Animal'].isin(marine_list), 'species_group'] = 'Mammal- Marine'\n",
    "df.loc[df['Animal'].isin(rum_list), 'species_group'] = 'Ruminant'\n",
    "df.loc[df['host'].isin(humans), 'species_group'] = 'Human'"
   ]
  },
  {
   "cell_type": "code",
   "execution_count": null,
   "id": "4d62c9fd",
   "metadata": {},
   "outputs": [],
   "source": [
    "anser_list = ['anseriformes']\n",
    "gall_list = ['galliformes']\n",
    "raptor_list = ['accipitriformes', 'falconiformes', 'strigiformes']\n",
    "waterbird_list = ['charadriiformes', 'pelecaniformes', 'suliformes', 'podicipediformes']\n",
    "passer_list = ['passeriformes']\n",
    "other_avian_list = ['casuariiformes', 'rheiformes', 'avian']\n",
    "\n",
    "\n",
    "df.loc[df['order'].isin(anser_list), 'species_group'] = 'Anseriformes'\n",
    "df.loc[df['order'].isin(gall_list), 'species_group'] = 'Galliformes'\n",
    "df.loc[df['order'].isin(raptor_list), 'species_group'] = 'Raptor'\n",
    "df.loc[df['order'].isin(waterbird_list), 'species_group'] = 'Other- Waterbird'\n",
    "df.loc[df['order'].isin(passer_list), 'species_group'] = 'Passerine'\n",
    "df.loc[df['order'].isin(other_avian_list), 'species_group'] = 'Other- Avian'"
   ]
  },
  {
   "cell_type": "code",
   "execution_count": null,
   "id": "e4d05825",
   "metadata": {},
   "outputs": [],
   "source": [
    "test = df.loc[df['species_group'] == 'Passerine']\n",
    "\n",
    "print(test[['order','species_group', 'strain']].head(15))"
   ]
  },
  {
   "cell_type": "code",
   "execution_count": null,
   "id": "bab8b442-b90c-4655-bb3d-b01097d0f800",
   "metadata": {},
   "outputs": [],
   "source": [
    "#drop duplicates again and check\n",
    "df=df.drop_duplicates(subset=['strain'])\n",
    "\n",
    "df"
   ]
  },
  {
   "cell_type": "code",
   "execution_count": null,
   "id": "d9578411",
   "metadata": {},
   "outputs": [],
   "source": [
    "#export, indicating file path to separate output folder\n",
    "\n",
    "df.to_csv('output_tsvs/merged_meta_05-16.tsv', sep=\"\\t\") \n"
   ]
  }
 ],
 "metadata": {
  "kernelspec": {
   "display_name": "Python 3 (ipykernel)",
   "language": "python",
   "name": "python3"
  },
  "language_info": {
   "codemirror_mode": {
    "name": "ipython",
    "version": 3
   },
   "file_extension": ".py",
   "mimetype": "text/x-python",
   "name": "python",
   "nbconvert_exporter": "python",
   "pygments_lexer": "ipython3",
   "version": "3.11.8"
  }
 },
 "nbformat": 4,
 "nbformat_minor": 5
}
